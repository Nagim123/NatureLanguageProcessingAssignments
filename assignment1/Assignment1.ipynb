{
  "cells": [
    {
      "cell_type": "markdown",
      "metadata": {
        "id": "RKboZnAdgrRM"
      },
      "source": [
        "# [NLP] Assignment 1: Tokenization\n",
        "\n",
        "In this assignment, you need to tokenize the text of the Twitter(X) users posts(tweets). The assignment consists of two tasks. When you finish all the tasks, create a GitHub repository for this assignment (you can use this repo later for the other assignments) and submit this notebook in the repository. Leave `requirements.txt` file if your code requires additional installations. Submit the link to the repository in Moodle.\n",
        "\n",
        "The [data](https://drive.google.com/file/d/15x_wPAflvYQ2Xh38iNQGrqUIWLj5l5Nw/view?usp=share_link) contains 5 files whereby each contains 44 tweets. Each tweet is separated by a newline."
      ]
    },
    {
      "cell_type": "markdown",
      "metadata": {
        "id": "aLDjjAvemUP_"
      },
      "source": [
        "## Task 1. Tokenize some tweets manually (20 points)\n",
        "\n",
        "As a first task you need to tokenize first 15 tweets from `file2` by hand. This will allow you to understand the problem from a linguistic point of view. The guidelines for tweet tokenization are as follows:\n",
        "\n",
        "- Each smiley is a separate token\n",
        "- Each hashtag is an individual token. Each user reference is an individual token\n",
        "- If a word has spaces between them then it is converted to a single token\n",
        "- All punctuations are individual tokens. This includes double-quotes and single quotes also\n",
        "- A URL is a single token\n",
        "\n",
        "Example of output\n",
        "\n",
        "    Input tweet\n",
        "    @xfranman Old age has made N A T O!\n",
        "\n",
        "    Tokenized tweet (separated by comma)\n",
        "    @xfranman , Old , age , has , made , NATO , !"
      ]
    },
    {
      "cell_type": "markdown",
      "metadata": {
        "id": "7KKKwTidnzUw"
      },
      "source": [
        "\n",
        "    1. Input tweet\n",
        "    Camping in Maine for the weekend. Hey Dad, Mama Loves YOU: http://www.mamapalooza.com\n",
        "    1. Tokenized tweet\n",
        "    Camping , in , Maine , for , the , weekend , . , Hey , Dad , , , Mama , Loves , YOU , : , http://www.mamapalooza.com\n",
        "\n",
        "    2. Input tweet\n",
        "    Its american tradition bitch\n",
        "    2. Tokenized tweet\n",
        "    Its , american , tradition , bitch\n",
        "\n",
        "    3. Input tweet\n",
        "    @ThroughTheVoid They love it! The only pleasure they get in life. I actually do that. I'm sure I hear a tiny squeak... Then louder ones\n",
        "    3. Tokenized tweet\n",
        "    @ThroughTheVoid , They , love , it , ! , The , only , pleasure , they , get , in , life , . , I , actually , do , that , . , I , 'm , sure , I , hear , a , tiny , squeak , . , . , . , Then , louder , ones\n",
        "\n",
        "    4. Input tweet\n",
        "    \" RT @latti: @AbsoHilare stop tweeting in church! Lol <--- \"\"I tweet because I'm happy, I tweet because I'm free\"\" LOL!\"\n",
        "    4. Tokenized tweet\n",
        "    \" , RT , @latti , : , @AbsoHilare , stop , tweeting , in , church , ! , Lol , < , - , - , - , \" , \" , I , tweet , because , I, 'm , happy , , , I , tweet , because , I , 'm , free , \" , \" , LOL , ! , \"\n",
        "\n",
        "    5. Input tweet\n",
        "    Samsung Mini S2 portable HDD graced with colors that perfectly match your tacky beach gear: Sammy's done it aga.. http://tinyurl.com/lb5p6m\n",
        "    5. Tokenized tweet\n",
        "    Samsung , Mini , S2 , portable , HDD , graced , with , colors , that , perfectly , match , your , tacky , beach , gear , : , Sammy , 's , done , it , aga , . , . , http://tinyurl.com/lb5p6m\n",
        "\n",
        "    6. Input tweet\n",
        "    @dialloc congrats on finding your way over. it may be slow going at first. hang in there. it's kinda cool when u get up to speed.\n",
        "    6. Tokenized tweet\n",
        "    @dialloc , congrats , on , finding , your , way , over . , it , may  , be , slow  , going  , at , first , . , hang , in , there , . , it , 's , kinda , cool , when , u , get , up , to , speed , .\n",
        "\n",
        "    7. Input tweet\n",
        "    iPhone activation delays continue, Apple offers $30 http://twt.gs/l3Ki\n",
        "    7. Tokenized tweet\n",
        "    iPhone , activation , delays , continue , , , Apple , offers , $ , 3 , 0 , http://twt.gs/l3Ki\n",
        "\n",
        "    8. Input tweet\n",
        "    RT @GoogleAtWork Gmail maximum attachment size now 25MB http://bit.ly/62mjw Nice!!!\n",
        "    8. Tokenized tweet\n",
        "    RT , @GoogleAtWork , Gmail , maximum , attachment , size , now , 2 , 5 , MB , http://bit.ly/62mjw , Nice , ! , ! , !\n",
        "\n",
        "    9. Input tweet\n",
        "    RT @acfou The Ads Won Awards for Crispin; But Did Nothing for Client BurgerKing's Sales/Marketshare - Big Surprise - http://ping.fm/vw8TI\n",
        "    9. Tokenized tweet\n",
        "    RT , @acfou , The , Ads , Won , Awards , for , Crispin , ; , But , Did , Nothing , for , Client , BurgerKing , 's , Sales , / , Marketshare , - , Big , Surprise  , - , http://ping.fm/vw8TI\n",
        "\n",
        "    10. Input tweet\n",
        "    Hey doll! Great I missed True Blood yday boo lol Rt @FrankBanuat78 @jhillstephens Hello Sunshine how are u today? :-)\n",
        "    10. Tokenized tweet\n",
        "    Hey , doll , ! , Great , I , missed , True , Blood , yday , boo , lol , Rt , @FrankBanuat78 , @jhillstephens , Hello , Sunshine , how , are , u , today , ? , : , - , )\n",
        "\n",
        "    11. Input tweet\n",
        "    Australian artist Pogo made these free songs primarily from sampled audio from Alice In Wonderland. http://www.last.fm/music/Pogo/Wonderland\n",
        "    11. Tokenized tweet\n",
        "    Australian , artist , Pogo , made , these , free , songs , primarily , from , sampled , audio , from , Alice , In , Wonderland , . , http://www.last.fm/music/Pogo/Wonderland\n",
        "\n",
        "    12. Input tweet\n",
        "    @mppritchard they wanted to sell all the preorders & then sell all of the ones they had in stock to those that just walked in. Can't do both\n",
        "    12. Tokenized tweet\n",
        "    @mppritchard , they , wanted , to , sell , all , the , preorders , & , then , sell , all , of , the , ones , they , had , in , stock , to , those , that , just , walked , in , . , Can , 't , do , both\n",
        "\n",
        "    13. Input tweet\n",
        "    Incoming: Frightened Rabbit, Sept. 22 (Tucson): If Fat Cat Records is going to send three great bands from Scot.. http://tinyurl.com/nz6xcv\n",
        "    13. Tokenized tweet\n",
        "    Incoming , : , Frightened , Rabbit , , , Sept , . , 2 , 2 , ( , Tucson , ) , : , If , Fat , Cat , Records , is , going , to , send , three , great , bands , from , Scot , . , . , http://tinyurl.com/nz6xcv\n",
        "\n",
        "    14. Input tweet\n",
        "    Hey @ginoandfran please greet philip! (GinoandFran live > http://ustre.am/2YyQ)\n",
        "    14. Tokenized tweet\n",
        "    Hey , @ginoandfran , please , greet , philip , ! , ( , GinoandFran live , > , http://ustre.am/2YyQ , )\n",
        "    \n",
        "    15. Input tweet\n",
        "    Ik weet niet wie er achter de T-Mobile iPhone Twitter zit maar ik vind het niet echt 'corporate' taalgebruik... Best vreemd eigenlijk\n",
        "    15. Tokenized tweet\n",
        "    Ik , weet , niet , wie , er , achter , de , T-Mobile , iPhone , Twitter , zit , maar , ik , vind , het , niet , echt , ' , corporate , ' , taalgebruik , . , . , . , Best , vreemd , eigenlijk"
      ]
    },
    {
      "cell_type": "markdown",
      "metadata": {
        "id": "-2J2AD2nmUhi"
      },
      "source": [
        "## Task 2. Implement [Byte-Pair Encoding(BPE)](https://arxiv.org/pdf/1508.07909.pdf) Tokenizer (80 points)\n",
        "\n",
        "### Task 2.1. Implementation (60 points)\n",
        "\n",
        "Implement the tokenizer as the BPETokenizer class:\n",
        "* Implement `train` method that learns merges and builds the vocabulary of the specified `vocab_size` (25 points).\n",
        "* Implement `tokenize` method that should tokenize the text according to the learnt merges (25 points).\n",
        "\n",
        "Your code should have docstrings and comments (10 points)."
      ]
    },
    {
      "cell_type": "code",
      "execution_count": null,
      "metadata": {
        "id": "wXTsyMJmen30",
        "colab": {
          "base_uri": "https://localhost:8080/"
        },
        "outputId": "ab7e3be6-9e7b-47b1-8208-0c8f31fad03c"
      },
      "outputs": [
        {
          "output_type": "stream",
          "name": "stderr",
          "text": [
            "[nltk_data] Downloading package punkt to /root/nltk_data...\n",
            "[nltk_data]   Unzipping tokenizers/punkt.zip.\n"
          ]
        }
      ],
      "source": [
        "import nltk\n",
        "nltk.download('punkt')\n",
        "\n",
        "from typing import List, Dict, Tuple\n",
        "from collections import Counter, defaultdict\n",
        "\n",
        "class BPETokenizer:\n",
        "    \"\"\"\n",
        "    Class that implements Byte-Pair Encoding tokenization.\n",
        "    \"\"\"\n",
        "\n",
        "    def __init__(self, vocab_size: int) -> None:\n",
        "        \"\"\"\n",
        "        Initialize BPE tokenizer by specifying final vocabulary size.\n",
        "\n",
        "        Paramters:\n",
        "            vocab_size (int): Desired size of the vocabulary.\n",
        "        \"\"\"\n",
        "        self.vocab_size = vocab_size\n",
        "\n",
        "    def __compute_pair_frequency(self, splits: Dict) -> Dict[Tuple[str, str], int]:\n",
        "        \"\"\"\n",
        "        Compute frequencies of all pairs of known tokens from corpus.\n",
        "\n",
        "        Parameters:\n",
        "            splits (Dict): Split of each word on tokens.\n",
        "\n",
        "        Returns:\n",
        "            (Dict[Tuple[str, str], int]): Frequency for each pairs of tokens.\n",
        "        \"\"\"\n",
        "        # Dictionary for frequency of all subsequent pair of tokens\n",
        "        pair_frequency = defaultdict(int)\n",
        "\n",
        "        for word, frequency in self.__word_frequency.items():\n",
        "            # Get token splitting\n",
        "            split = splits[word]\n",
        "            # If the whole word is a single token skip it.\n",
        "            if len(split) == 1:\n",
        "                continue\n",
        "            # Add frequency of the word to the frequency of each pair of subsequent tokens\n",
        "            for i in range(len(split) - 1):\n",
        "                pair_frequency[(split[i], split[i+1])] += frequency\n",
        "\n",
        "        return pair_frequency\n",
        "\n",
        "    def __merge_pair(self, most_frequent_pair: Dict, splits: Dict) -> Dict[str, List[str]]:\n",
        "        \"\"\"\n",
        "        Merge the most frequent pair of subsequent tokens and update each word splitting.\n",
        "\n",
        "        Parameters:\n",
        "            most_frequent_pair (Dict): Dictionary where key is two most frequent tokens and value is their frequency.\n",
        "            splits (Dict): Split of each word on tokens.\n",
        "\n",
        "        Returns:\n",
        "            (Dict[str, List[str]]): New word splitting generated by merging two most frequent tokens.\n",
        "        \"\"\"\n",
        "\n",
        "        # Two subwords that will be merged\n",
        "        subword1, subword2 = most_frequent_pair\n",
        "        # Find subsequence of these subwords among all words and merge\n",
        "        for word in self.__word_frequency:\n",
        "            split = splits[word]\n",
        "            i = 0\n",
        "            # Merge until we have mergable tokens\n",
        "            while i < len(split) - 1:\n",
        "                if split[i] == subword1 and split[i+1] == subword2:\n",
        "                    split = split[:i] + [subword1 + subword2] + split[i+2:]\n",
        "                else:\n",
        "                    i += 1\n",
        "            # Update splitting\n",
        "            splits[word] = split\n",
        "\n",
        "        return splits\n",
        "\n",
        "    def train(self, corpus: List[str]) -> None:\n",
        "        \"\"\"\n",
        "        Train tokenizer to extract tokens from corpus texts.\n",
        "\n",
        "        Parameters:\n",
        "            corpus (List[str]): List of all texts of corpus.\n",
        "        \"\"\"\n",
        "        self.__word_frequency = Counter()\n",
        "\n",
        "        # Tokenize each text from corpus and calculate frequency for each word in texts\n",
        "        for text in corpus:\n",
        "            pre_tokenized_text = nltk.tokenize.word_tokenize(text)\n",
        "            self.__word_frequency += Counter(pre_tokenized_text)\n",
        "\n",
        "        # Extract all symbols that are presented in a corpus\n",
        "        alphabet = []\n",
        "        for word in self.__word_frequency:\n",
        "            alphabet += list(word)\n",
        "\n",
        "        # Initiall vocabulary is just individual letters\n",
        "        self.vocabulary: list[str] = list(set(alphabet)) + ['</w>']\n",
        "        # Split each word by characters (initially one character is a separate token)\n",
        "        splits = {word:list(word) + ['</w>'] for word in self.__word_frequency}\n",
        "        # History of merges\n",
        "        self.__merge_history = dict()\n",
        "        # Until we do not have desired size of vocabulary do mergings\n",
        "        while len(self.vocabulary) < self.vocab_size:\n",
        "            # Compute frequencies of all subsequent known tokens\n",
        "            pair_frequency = self.__compute_pair_frequency(splits)\n",
        "            # Find most frequent pair of tokens\n",
        "            most_frequent_pair = max(pair_frequency, key=pair_frequency.get)\n",
        "            # Merge these tokens among all word splittings\n",
        "            splits = self.__merge_pair(most_frequent_pair, splits)\n",
        "            # Record this action into history\n",
        "            self.__merge_history[most_frequent_pair] = \"\".join(most_frequent_pair)\n",
        "            # Create new token - merge of two the most frequent and subsequent tokens\n",
        "            self.vocabulary.append(\"\".join(most_frequent_pair))\n",
        "\n",
        "    def tokenize(self, text: str) -> List[str]:\n",
        "        \"\"\"\n",
        "        Tokenize text using learnt tokens from training.\n",
        "\n",
        "        Parameters:\n",
        "            text (str): Text to tokenize.\n",
        "        Returns:\n",
        "            (List[str]): Tokens\n",
        "        \"\"\"\n",
        "\n",
        "        # Check if we trained tokenizer\n",
        "        if self.vocabulary is None:\n",
        "            raise Exception(\"The vocabulary is empty! Firstly train a tokenizer on corpus texts.\")\n",
        "\n",
        "        pre_tokenized_text = nltk.tokenize.word_tokenize(text)\n",
        "        # Split each word by characters\n",
        "        splits = [list(word) + ['</w>'] for word in pre_tokenized_text]\n",
        "\n",
        "        # Repeat each merging we done during training\n",
        "        for pair, merge in self.__merge_history.items():\n",
        "            # Do this for each word\n",
        "            for index, split in enumerate(splits):\n",
        "                i = 0\n",
        "                while i < len(split) - 1:\n",
        "                    if split[i] == pair[0] and split[i+1] == pair[1]:\n",
        "                        split = split[:i] + [merge] + split[i+2:]\n",
        "                    else:\n",
        "                        i += 1\n",
        "                # Update splitting\n",
        "                splits[index] = split\n",
        "        # Concatenate token splitting of each word into single sequence of tokens\n",
        "        return sum(splits, [])\n"
      ]
    },
    {
      "cell_type": "markdown",
      "source": [
        "## Testing of algorithm\n",
        "We will perform test on example from **Lecture 1 slide 69**"
      ],
      "metadata": {
        "id": "mRGYGvM0HuhH"
      }
    },
    {
      "cell_type": "code",
      "source": [
        "tokenizer = BPETokenizer(19)\n",
        "tokenizer.train([\"low low low low low lowest lowest newer newer newer newer newer newer wider wider wider new new\"])"
      ],
      "metadata": {
        "id": "6XB3cRyNvmpU"
      },
      "execution_count": null,
      "outputs": []
    },
    {
      "cell_type": "code",
      "source": [
        "# Tokenization\n",
        "print(tokenizer.tokenize(\"low low low low low lowest lowest newer newer newer newer newer newer wider wider wider new new\"))"
      ],
      "metadata": {
        "colab": {
          "base_uri": "https://localhost:8080/"
        },
        "id": "Nav9klceBsNe",
        "outputId": "7544279d-d18b-44c9-bf1f-c2bd370fe32f"
      },
      "execution_count": null,
      "outputs": [
        {
          "output_type": "stream",
          "name": "stdout",
          "text": [
            "['low</w>', 'low</w>', 'low</w>', 'low</w>', 'low</w>', 'low', 'e', 's', 't', '</w>', 'low', 'e', 's', 't', '</w>', 'newer</w>', 'newer</w>', 'newer</w>', 'newer</w>', 'newer</w>', 'newer</w>', 'w', 'i', 'd', 'er</w>', 'w', 'i', 'd', 'er</w>', 'w', 'i', 'd', 'er</w>', 'new', '</w>', 'new', '</w>']\n"
          ]
        }
      ]
    },
    {
      "cell_type": "code",
      "source": [
        "# Vocabulary\n",
        "print(tokenizer.vocabulary)"
      ],
      "metadata": {
        "colab": {
          "base_uri": "https://localhost:8080/"
        },
        "id": "QuspvOs3UhEQ",
        "outputId": "591fab81-61f9-4ab9-814d-b7c8c201d9ab"
      },
      "execution_count": null,
      "outputs": [
        {
          "output_type": "stream",
          "name": "stdout",
          "text": [
            "['o', 'i', 'w', 't', 'l', 'd', 's', 'n', 'r', 'e', '</w>', 'er', 'er</w>', 'ne', 'new', 'lo', 'low', 'newer</w>', 'low</w>']\n"
          ]
        }
      ]
    },
    {
      "cell_type": "markdown",
      "metadata": {
        "id": "GqeTaM08en31"
      },
      "source": [
        "### Task 2.2. Analysis on Tweets Dataset (10 points)\n",
        "\n",
        "Train the BPE tokenizer on the tweets dataset. Try to tokenize the tweets with the tokenizer of different `vocab_size`. For example, train the BPE tokenizer with `vocab_size` of [base_vocab_size, 250, 500, 750, 1000]. Plot the dependency of the average length of the tokenized tweet by `vocab_size` to analyze how `vocab_size` affects the length of the tokenized tweet on average. Tell what `vocab_size` is preferrable and why."
      ]
    },
    {
      "cell_type": "code",
      "source": [
        "# Download dataset\n",
        "!gdown --fuzzy https://drive.google.com/file/d/15x_wPAflvYQ2Xh38iNQGrqUIWLj5l5Nw/view\n",
        "!unzip Assignment1_data.zip"
      ],
      "metadata": {
        "colab": {
          "base_uri": "https://localhost:8080/"
        },
        "id": "9bNT73hBUuFD",
        "outputId": "c9fb5c42-fdf5-47d7-9cd9-70e4eafc84fb"
      },
      "execution_count": null,
      "outputs": [
        {
          "output_type": "stream",
          "name": "stdout",
          "text": [
            "Downloading...\n",
            "From: https://drive.google.com/uc?id=15x_wPAflvYQ2Xh38iNQGrqUIWLj5l5Nw\n",
            "To: /content/Assignment1_data.zip\n",
            "\r  0% 0.00/15.6k [00:00<?, ?B/s]\r100% 15.6k/15.6k [00:00<00:00, 46.1MB/s]\n",
            "Archive:  Assignment1_data.zip\n",
            "  inflating: file5                   \n",
            "  inflating: __MACOSX/._file5        \n",
            "  inflating: file4                   \n",
            "  inflating: __MACOSX/._file4        \n",
            "  inflating: file3                   \n",
            "  inflating: __MACOSX/._file3        \n",
            "  inflating: file2                   \n",
            "  inflating: __MACOSX/._file2        \n",
            "  inflating: file1                   \n",
            "  inflating: __MACOSX/._file1        \n"
          ]
        }
      ]
    },
    {
      "cell_type": "code",
      "execution_count": null,
      "metadata": {
        "id": "u_X6CAwOen31",
        "colab": {
          "base_uri": "https://localhost:8080/"
        },
        "outputId": "b8375d69-0ea2-4066-f3a3-56fc3eb8e953"
      },
      "outputs": [
        {
          "output_type": "execute_result",
          "data": {
            "text/plain": [
              "['@anitapuspasari waduh..',\n",
              " '\" Could journos please stop putting the word \"\"gate\"\" after everything they write... gate.\"',\n",
              " \"20% More Ridiculous Sale @20x200 ends tonight! - get 20% off by entering 'RIDONK' at checkout. More info: http://bit.ly/ridonktues\",\n",
              " \"@Studio85 I have a pair of those shoes. They are comfy. Like being barefoot. Okay for running, but not on concrete, as I've discovered.\",\n",
              " 'RT @twilightus Team Carlisle is a Trending Topic- help him out RT Follow @peterfacinelli see a grown man n a bikini dance Hollywood Blvd']"
            ]
          },
          "metadata": {},
          "execution_count": 7
        }
      ],
      "source": [
        "# Read dataset\n",
        "tweets_dataset = []\n",
        "tweets_filenames = [\"file1\", \"file2\", \"file3\", \"file4\", \"file5\"]\n",
        "\n",
        "for tweets_filename in tweets_filenames:\n",
        "    with open(tweets_filename, \"r\") as tweets_file:\n",
        "        tweets_dataset += tweets_file.read().split('\\n')\n",
        "\n",
        "tweets_dataset[:5]"
      ]
    },
    {
      "cell_type": "code",
      "source": [
        "# Calculate basic vocabulary size\n",
        "alphabet = []\n",
        "for text in tweets_dataset:\n",
        "    alphabet += list(text)\n",
        "\n",
        "basic_vocab_size = len(set(alphabet))\n",
        "print(f\"Basic vocabulary: {basic_vocab_size}\")"
      ],
      "metadata": {
        "colab": {
          "base_uri": "https://localhost:8080/"
        },
        "id": "KK9gjKE2jNLc",
        "outputId": "17f50e31-9347-4d21-fbc3-7a74e194038b"
      },
      "execution_count": null,
      "outputs": [
        {
          "output_type": "stream",
          "name": "stdout",
          "text": [
            "Basic vocabulary: 167\n"
          ]
        }
      ]
    },
    {
      "cell_type": "code",
      "source": [
        "vocab_sizes = [basic_vocab_size, 250, 500, 750, 1000]\n",
        "average_tokenized_tweet_length = []\n",
        "\n",
        "# For each vocabulary size calculate mean tweet tokens number\n",
        "for vocab_size in vocab_sizes:\n",
        "    tokenizer = BPETokenizer(vocab_size)\n",
        "    tokenizer.train(tweets_dataset)\n",
        "    tokenized_tweets_lengths = []\n",
        "    for tweet in tweets_dataset:\n",
        "        tokenized_tweets_lengths.append(len(tokenizer.tokenize(tweet)))\n",
        "    average_tokenized_tweet_length.append(sum(tokenized_tweets_lengths)/len(tokenized_tweets_lengths))\n",
        "average_tokenized_tweet_length"
      ],
      "metadata": {
        "id": "TUOpWIQvWsi-",
        "colab": {
          "base_uri": "https://localhost:8080/"
        },
        "outputId": "11daf899-9904-46c4-c002-1763e6586c6b"
      },
      "execution_count": null,
      "outputs": [
        {
          "output_type": "execute_result",
          "data": {
            "text/plain": [
              "[101.49777777777778,\n",
              " 66.28888888888889,\n",
              " 50.29333333333334,\n",
              " 44.81333333333333,\n",
              " 41.42666666666667]"
            ]
          },
          "metadata": {},
          "execution_count": 9
        }
      ]
    },
    {
      "cell_type": "code",
      "source": [
        "import matplotlib.pyplot as plt\n",
        "\n",
        "plt.plot(vocab_sizes, average_tokenized_tweet_length)\n",
        "\n",
        "plt.xlabel(\"Vocabulary size\")\n",
        "plt.ylabel(\"Average number of tokens per tweet\")\n",
        "\n",
        "plt.show()"
      ],
      "metadata": {
        "colab": {
          "base_uri": "https://localhost:8080/",
          "height": 449
        },
        "id": "nzMx9rlAkK00",
        "outputId": "9b6a1454-80bf-4e7e-e9a8-7df4a90857ca"
      },
      "execution_count": null,
      "outputs": [
        {
          "output_type": "display_data",
          "data": {
            "text/plain": [
              "<Figure size 640x480 with 1 Axes>"
            ],
            "image/png": "[encoded data removed]"
          },
          "metadata": {}
        }
      ]
    },
    {
      "cell_type": "markdown",
      "source": [
        "## <font color=\"lime\">Answer about preferrable vocabulary size</font>\n",
        "When we add more size to our vocabulary, the average number of tokens per tweet decreases, but at a certain point, it doesn't decrease as much. In our case, we can say that having a vocabulary of **750** tokens is enough because adding 250 more tokens doesn't significantly decrease the average number of tokens per tweet. So, it makes sense to stop there, similar to Eblow method in clustering."
      ],
      "metadata": {
        "id": "n09oc0DW-y-J"
      }
    },
    {
      "cell_type": "markdown",
      "metadata": {
        "id": "xEO1Zbr-en32"
      },
      "source": [
        "### Task 2.3. Analysis on Dataset of Different Language (10 points)\n",
        "\n",
        "Find a small dataset of texts in a language other than English. The dataset size should be not greater than several megabytes.\n",
        "\n",
        "Train the BPE tokenizer on the dataset that you found. Try to tokenize the sentences from this dataset with the tokenizer of different `vocab_size`. Plot the dependency of the average length of the tokenized sentence by `vocab_size` to analyze how `vocab_size` affects the length of the tokenized sentence on average.\n",
        "\n",
        "Tell how how the average length of the tokenized sentence differs from the average length of the tokenized tweet. Explain why."
      ]
    },
    {
      "cell_type": "code",
      "source": [
        "# Download custom dataset\n",
        "!gdown --fuzzy https://drive.google.com/file/d/1valJrDOo_f7P43YKsFr2zQTHqX1e_jEb/view?usp=sharing"
      ],
      "metadata": {
        "colab": {
          "base_uri": "https://localhost:8080/"
        },
        "id": "0IHn0h4n5dVb",
        "outputId": "d5eafa47-ed41-425d-e3cf-3661cce1326f"
      },
      "execution_count": null,
      "outputs": [
        {
          "output_type": "stream",
          "name": "stdout",
          "text": [
            "Downloading...\n",
            "From: https://drive.google.com/uc?id=1valJrDOo_f7P43YKsFr2zQTHqX1e_jEb\n",
            "To: /content/Inno2ch_censored_dataset.txt\n",
            "\r  0% 0.00/16.3k [00:00<?, ?B/s]\r100% 16.3k/16.3k [00:00<00:00, 44.8MB/s]\n"
          ]
        }
      ]
    },
    {
      "cell_type": "code",
      "execution_count": null,
      "metadata": {
        "id": "gaQshM1Aen32",
        "colab": {
          "base_uri": "https://localhost:8080/"
        },
        "outputId": "3e18b407-0e71-4561-f212-b696b1528886"
      },
      "outputs": [
        {
          "output_type": "stream",
          "name": "stdout",
          "text": [
            "['Килуа', 'Каждый по 4 кг носит', 'Очень, поэтому я распределил по 100 студентам', 'тяжело?', 'Вон челики ходят с разбитыми мобилами за 5 тысяч и мутят с зумершами']\n"
          ]
        }
      ],
      "source": [
        "# Read custom dataset\n",
        "inno2ch_dataset = []\n",
        "with open(\"Inno2ch_censored_dataset.txt\", \"r\") as inno2ch_file:\n",
        "    inno2ch_dataset = inno2ch_file.read().split('\\n')\n",
        "\n",
        "print(inno2ch_dataset[:5])"
      ]
    },
    {
      "cell_type": "code",
      "source": [
        "# Calculate basic vocabulary size\n",
        "alphabet = []\n",
        "for text in inno2ch_dataset:\n",
        "    alphabet += list(text)\n",
        "\n",
        "basic_vocab_size = len(set(alphabet))\n",
        "print(f\"Basic vocabulary: {basic_vocab_size}\")"
      ],
      "metadata": {
        "colab": {
          "base_uri": "https://localhost:8080/"
        },
        "id": "nDCltGod6XY8",
        "outputId": "0d4958cd-b6c8-457e-acf2-08ca98392c7d"
      },
      "execution_count": null,
      "outputs": [
        {
          "output_type": "stream",
          "name": "stdout",
          "text": [
            "Basic vocabulary: 78\n"
          ]
        }
      ]
    },
    {
      "cell_type": "code",
      "source": [
        "vocab_sizes = [basic_vocab_size, 250, 500, 750, 1000]\n",
        "average_tokenized_message_length = []\n",
        "\n",
        "# For each vocabulary size calculate mean message tokens number\n",
        "for vocab_size in vocab_sizes:\n",
        "    tokenizer = BPETokenizer(vocab_size)\n",
        "    tokenizer.train(inno2ch_dataset)\n",
        "    tokenized_message_lengths = []\n",
        "    for message in inno2ch_dataset:\n",
        "        tokenized_message_lengths.append(len(tokenizer.tokenize(message)))\n",
        "    average_tokenized_message_length.append(sum(tokenized_message_lengths)/len(tokenized_message_lengths))\n",
        "average_tokenized_message_length"
      ],
      "metadata": {
        "colab": {
          "base_uri": "https://localhost:8080/"
        },
        "id": "cDoiKLh_5xcE",
        "outputId": "b6010bc6-0091-4f8a-bcf0-122db8d9c32a"
      },
      "execution_count": null,
      "outputs": [
        {
          "output_type": "execute_result",
          "data": {
            "text/plain": [
              "[80.86206896551724,\n",
              " 42.706896551724135,\n",
              " 33.525862068965516,\n",
              " 28.655172413793103,\n",
              " 25.28448275862069]"
            ]
          },
          "metadata": {},
          "execution_count": 14
        }
      ]
    },
    {
      "cell_type": "code",
      "source": [
        "import matplotlib.pyplot as plt\n",
        "\n",
        "plt.plot(vocab_sizes, average_tokenized_message_length)\n",
        "\n",
        "plt.xlabel(\"Vocabulary size\")\n",
        "plt.ylabel(\"Average number of tokens per message\")\n",
        "\n",
        "plt.show()"
      ],
      "metadata": {
        "colab": {
          "base_uri": "https://localhost:8080/",
          "height": 449
        },
        "id": "LxBIMEio6SzA",
        "outputId": "4463a349-6489-402f-9860-001d43ca22fd"
      },
      "execution_count": null,
      "outputs": [
        {
          "output_type": "display_data",
          "data": {
            "text/plain": [
              "<Figure size 640x480 with 1 Axes>"
            ],
            "image/png": "[encoded data removed]"
          },
          "metadata": {}
        }
      ]
    },
    {
      "cell_type": "markdown",
      "source": [
        "## <font color=\"lime\">Answer about the average length of the tokenized sentence difference</font>\n",
        "The average number of tokens in my custom dataset is lower than in the Twitter dataset because there are fewer links and user references in my data. Additionally, my dataset has 116 sentences compared to 220 sentences in the Twitter dataset. However, the relationship between the size of the vocabulary and the average number of tokens per tweet remains consistent."
      ],
      "metadata": {
        "id": "-wVe5swHBJ5-"
      }
    },
    {
      "cell_type": "code",
      "source": [],
      "metadata": {
        "id": "-c3YMmLk6mQM"
      },
      "execution_count": null,
      "outputs": []
    }
  ],
  "metadata": {
    "colab": {
      "provenance": []
    },
    "kernelspec": {
      "display_name": "Python 3",
      "name": "python3"
    },
    "language_info": {
      "name": "python"
    }
  },
  "nbformat": 4,
  "nbformat_minor": 0
}